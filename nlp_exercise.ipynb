{
 "cells": [
  {
   "cell_type": "markdown",
   "id": "44186c56",
   "metadata": {},
   "source": [
    "### Natural language processing"
   ]
  },
  {
   "cell_type": "code",
   "execution_count": 1,
   "id": "eb2141aa",
   "metadata": {},
   "outputs": [
    {
     "data": {
      "text/plain": [
       "'Germany is struggling. Its economy has shown no growth in the best part of two years. Its infrastructure is badly in need of modernisation. There are strikes on the railways. Protesting farmers have brought Berlin to a standstill. Deutsche Bank is cutting thousands of jobs. School standards are slipping. There is growing support for parties of the hard left and hard right. For the second time in a quarter of a century it is being labelled the sick man of Europe.\\n\\nGermany has a history of economic problems breeding political extremism but talk of a return to the Weimar Republic is wildly overblown. The economy is flatlining, not collapsing. There is nothing to match the hyperinflation of 1923 or the mass unemployment of the early 1930s.\\n\\nThat said, the ruling coalition led by the chancellor, Olaf Scholz, is in serious trouble, staggering from crisis to crisis. Late last year, the country’s constitutional court ruled against a plan that allowed money intended for pandemic emergency measures to be spent on the transition to a carbon net zero economy. That blew a €60bn (£52bn) hole in the budget that had to be filled by unpopular austerity measures. As in many other European countries, immigration is a toxic political issue.'"
      ]
     },
     "execution_count": 1,
     "metadata": {},
     "output_type": "execute_result"
    }
   ],
   "source": [
    "text = \"\"\"Germany is struggling. Its economy has shown no growth in the best part of two years. Its infrastructure is badly in need of modernisation. There are strikes on the railways. Protesting farmers have brought Berlin to a standstill. Deutsche Bank is cutting thousands of jobs. School standards are slipping. There is growing support for parties of the hard left and hard right. For the second time in a quarter of a century it is being labelled the sick man of Europe.\n",
    "\n",
    "Germany has a history of economic problems breeding political extremism but talk of a return to the Weimar Republic is wildly overblown. The economy is flatlining, not collapsing. There is nothing to match the hyperinflation of 1923 or the mass unemployment of the early 1930s.\n",
    "\n",
    "That said, the ruling coalition led by the chancellor, Olaf Scholz, is in serious trouble, staggering from crisis to crisis. Late last year, the country’s constitutional court ruled against a plan that allowed money intended for pandemic emergency measures to be spent on the transition to a carbon net zero economy. That blew a €60bn (£52bn) hole in the budget that had to be filled by unpopular austerity measures. As in many other European countries, immigration is a toxic political issue.\"\"\"\n",
    "text"
   ]
  },
  {
   "cell_type": "markdown",
   "id": "5f7daa8a",
   "metadata": {},
   "source": [
    "#### Segmentation"
   ]
  },
  {
   "cell_type": "code",
   "execution_count": 2,
   "id": "3b726a90",
   "metadata": {},
   "outputs": [
    {
     "name": "stderr",
     "output_type": "stream",
     "text": [
      "[nltk_data] Downloading package punkt to\n",
      "[nltk_data]     C:\\Users\\Yaramis\\AppData\\Roaming\\nltk_data...\n",
      "[nltk_data]   Package punkt is already up-to-date!\n"
     ]
    }
   ],
   "source": [
    "# import \n",
    "import nltk\n",
    "nltk.download('punkt')\n",
    "from nltk.tokenize import sent_tokenize"
   ]
  },
  {
   "cell_type": "code",
   "execution_count": 3,
   "id": "c717debc",
   "metadata": {},
   "outputs": [
    {
     "data": {
      "text/plain": [
       "['Germany is struggling.',\n",
       " 'Its economy has shown no growth in the best part of two years.',\n",
       " 'Its infrastructure is badly in need of modernisation.',\n",
       " 'There are strikes on the railways.',\n",
       " 'Protesting farmers have brought Berlin to a standstill.',\n",
       " 'Deutsche Bank is cutting thousands of jobs.',\n",
       " 'School standards are slipping.',\n",
       " 'There is growing support for parties of the hard left and hard right.',\n",
       " 'For the second time in a quarter of a century it is being labelled the sick man of Europe.',\n",
       " 'Germany has a history of economic problems breeding political extremism but talk of a return to the Weimar Republic is wildly overblown.',\n",
       " 'The economy is flatlining, not collapsing.',\n",
       " 'There is nothing to match the hyperinflation of 1923 or the mass unemployment of the early 1930s.',\n",
       " 'That said, the ruling coalition led by the chancellor, Olaf Scholz, is in serious trouble, staggering from crisis to crisis.',\n",
       " 'Late last year, the country’s constitutional court ruled against a plan that allowed money intended for pandemic emergency measures to be spent on the transition to a carbon net zero economy.',\n",
       " 'That blew a €60bn (£52bn) hole in the budget that had to be filled by unpopular austerity measures.',\n",
       " 'As in many other European countries, immigration is a toxic political issue.']"
      ]
     },
     "execution_count": 3,
     "metadata": {},
     "output_type": "execute_result"
    }
   ],
   "source": [
    "# Split text into sentences\n",
    "sentences = sent_tokenize(text)\n",
    "sentences"
   ]
  },
  {
   "cell_type": "code",
   "execution_count": 4,
   "id": "27d7dde8",
   "metadata": {},
   "outputs": [
    {
     "data": {
      "text/plain": [
       "'Its infrastructure is badly in need of modernisation.'"
      ]
     },
     "execution_count": 4,
     "metadata": {},
     "output_type": "execute_result"
    }
   ],
   "source": [
    "sentences[2]"
   ]
  },
  {
   "cell_type": "code",
   "execution_count": 5,
   "id": "4c291e57",
   "metadata": {},
   "outputs": [
    {
     "data": {
      "text/plain": [
       "'Its infrastructure is badly in need of modernisation '"
      ]
     },
     "execution_count": 5,
     "metadata": {},
     "output_type": "execute_result"
    }
   ],
   "source": [
    "# Punctuation removal\n",
    "import re\n",
    "\n",
    "# Remove punctuation characters\n",
    "text = re.sub(r\"[^a-zA-Z0-9]\", \" \", sentences[2]) \n",
    "text"
   ]
  },
  {
   "cell_type": "markdown",
   "id": "93ff16b1",
   "metadata": {},
   "source": [
    "#### Tokenization"
   ]
  },
  {
   "cell_type": "code",
   "execution_count": 6,
   "id": "fce5030c",
   "metadata": {},
   "outputs": [],
   "source": [
    "from nltk.tokenize import word_tokenize"
   ]
  },
  {
   "cell_type": "code",
   "execution_count": 7,
   "id": "9185e4cf",
   "metadata": {
    "scrolled": true
   },
   "outputs": [
    {
     "name": "stdout",
     "output_type": "stream",
     "text": [
      "['Its', 'infrastructure', 'is', 'badly', 'in', 'need', 'of', 'modernisation']\n"
     ]
    }
   ],
   "source": [
    "words = word_tokenize(text)\n",
    "print(words)"
   ]
  },
  {
   "cell_type": "markdown",
   "id": "fde2696a",
   "metadata": {},
   "source": [
    "#### Removal of stop words"
   ]
  },
  {
   "cell_type": "code",
   "execution_count": 8,
   "id": "ff38a405",
   "metadata": {},
   "outputs": [
    {
     "name": "stderr",
     "output_type": "stream",
     "text": [
      "[nltk_data] Downloading package stopwords to\n",
      "[nltk_data]     C:\\Users\\Yaramis\\AppData\\Roaming\\nltk_data...\n",
      "[nltk_data]   Package stopwords is already up-to-date!\n"
     ]
    }
   ],
   "source": [
    "nltk.download('stopwords')\n",
    "from nltk.corpus import stopwords"
   ]
  },
  {
   "cell_type": "code",
   "execution_count": 9,
   "id": "ce7c78c0",
   "metadata": {},
   "outputs": [
    {
     "name": "stdout",
     "output_type": "stream",
     "text": [
      "['Its', 'infrastructure', 'badly', 'need', 'modernisation']\n"
     ]
    }
   ],
   "source": [
    "# Remove stop words\n",
    "words = [w for w in words if w not in stopwords.words(\"english\")]\n",
    "print(words)"
   ]
  },
  {
   "cell_type": "code",
   "execution_count": 10,
   "id": "91ebed99",
   "metadata": {},
   "outputs": [
    {
     "name": "stdout",
     "output_type": "stream",
     "text": [
      "['acaba', 'ama', 'aslında', 'az', 'bazı', 'belki', 'biri', 'birkaç', 'birşey', 'biz', 'bu', 'çok', 'çünkü', 'da', 'daha', 'de', 'defa', 'diye', 'eğer', 'en', 'gibi', 'hem', 'hep', 'hepsi', 'her', 'hiç', 'için', 'ile', 'ise', 'kez', 'ki', 'kim', 'mı', 'mu', 'mü', 'nasıl', 'ne', 'neden', 'nerde', 'nerede', 'nereye', 'niçin', 'niye', 'o', 'sanki', 'şey', 'siz', 'şu', 'tüm', 've', 'veya', 'ya', 'yani']\n"
     ]
    }
   ],
   "source": [
    "# have a look at the stop words in nltk's corpus\n",
    "print(stopwords.words(\"turkish\"))"
   ]
  },
  {
   "cell_type": "markdown",
   "id": "7c9b696b",
   "metadata": {},
   "source": [
    "#### Stemming and lemmatization"
   ]
  },
  {
   "cell_type": "code",
   "execution_count": 11,
   "id": "c9f0e6b3",
   "metadata": {},
   "outputs": [
    {
     "name": "stderr",
     "output_type": "stream",
     "text": [
      "[nltk_data] Downloading package wordnet to\n",
      "[nltk_data]     C:\\Users\\Yaramis\\AppData\\Roaming\\nltk_data...\n",
      "[nltk_data]   Package wordnet is already up-to-date!\n",
      "[nltk_data] Downloading package omw-1.4 to\n",
      "[nltk_data]     C:\\Users\\Yaramis\\AppData\\Roaming\\nltk_data...\n"
     ]
    },
    {
     "name": "stderr",
     "output_type": "stream",
     "text": [
      "[nltk_data]   Package omw-1.4 is already up-to-date!\n"
     ]
    },
    {
     "data": {
      "text/plain": [
       "True"
      ]
     },
     "execution_count": 11,
     "metadata": {},
     "output_type": "execute_result"
    }
   ],
   "source": [
    "nltk.download('wordnet') # download for lemmatization\n",
    "nltk.download('omw-1.4')"
   ]
  },
  {
   "cell_type": "code",
   "execution_count": 12,
   "id": "e9e9dc1d",
   "metadata": {},
   "outputs": [
    {
     "name": "stdout",
     "output_type": "stream",
     "text": [
      "['it', 'infrastructur', 'badli', 'need', 'modernis']\n"
     ]
    }
   ],
   "source": [
    "# Stemming\n",
    "from nltk.stem.porter import PorterStemmer\n",
    "\n",
    "# Reduce words to their stems\n",
    "stemmed = [PorterStemmer().stem(w) for w in words]\n",
    "print(stemmed)"
   ]
  },
  {
   "cell_type": "code",
   "execution_count": 13,
   "id": "0e1a818a",
   "metadata": {},
   "outputs": [
    {
     "name": "stdout",
     "output_type": "stream",
     "text": [
      "['Its', 'infrastructure', 'badly', 'need', 'modernisation']\n"
     ]
    }
   ],
   "source": [
    "# Lemmatize\n",
    "from nltk.stem.wordnet import WordNetLemmatizer\n",
    "\n",
    "# Reduce words to their root form\n",
    "lemmatized = [WordNetLemmatizer().lemmatize(w) for w in words]\n",
    "print(lemmatized)"
   ]
  },
  {
   "cell_type": "code",
   "execution_count": 14,
   "id": "a2dd0ffc",
   "metadata": {},
   "outputs": [
    {
     "name": "stdout",
     "output_type": "stream",
     "text": [
      "Stemming output: ['wait', 'wait', 'studi', 'studi', 'comput']\n",
      "Lemmatization output: ['wait', 'waiting', 'study', 'studying', 'computer']\n"
     ]
    }
   ],
   "source": [
    "# Another stemming and lemmatization example\n",
    "words2 = ['wait', 'waiting' , 'studies', 'studying', 'computers']\n",
    "\n",
    "# Stemming\n",
    "# Reduce words to their stems\n",
    "stemmed = [PorterStemmer().stem(w) for w in words2]\n",
    "print(\"Stemming output: {}\".format(stemmed))\n",
    "\n",
    "# Lemmatization\n",
    "# Reduce words to their root form\n",
    "lemmatized = [WordNetLemmatizer().lemmatize(w) for w in words2]\n",
    "print(\"Lemmatization output: {}\".format(lemmatized))"
   ]
  },
  {
   "cell_type": "markdown",
   "id": "900c5903",
   "metadata": {},
   "source": [
    "#### Part of speech tagging"
   ]
  },
  {
   "cell_type": "code",
   "execution_count": 15,
   "id": "1e4145dd",
   "metadata": {},
   "outputs": [
    {
     "name": "stderr",
     "output_type": "stream",
     "text": [
      "[nltk_data] Downloading package averaged_perceptron_tagger to\n",
      "[nltk_data]     C:\\Users\\Yaramis\\AppData\\Roaming\\nltk_data...\n",
      "[nltk_data]   Package averaged_perceptron_tagger is already up-to-\n",
      "[nltk_data]       date!\n",
      "[nltk_data] Downloading package maxent_ne_chunker to\n",
      "[nltk_data]     C:\\Users\\Yaramis\\AppData\\Roaming\\nltk_data...\n",
      "[nltk_data]   Package maxent_ne_chunker is already up-to-date!\n"
     ]
    },
    {
     "data": {
      "text/plain": [
       "True"
      ]
     },
     "execution_count": 15,
     "metadata": {},
     "output_type": "execute_result"
    }
   ],
   "source": [
    "nltk.download('averaged_perceptron_tagger')\n",
    "nltk.download('maxent_ne_chunker')"
   ]
  },
  {
   "cell_type": "code",
   "execution_count": 16,
   "id": "7c95f4b8",
   "metadata": {},
   "outputs": [],
   "source": [
    "from nltk import pos_tag"
   ]
  },
  {
   "cell_type": "code",
   "execution_count": 17,
   "id": "186f3347",
   "metadata": {
    "scrolled": false
   },
   "outputs": [
    {
     "data": {
      "text/plain": [
       "[('Its', 'PRP$'),\n",
       " ('infrastructure', 'NN'),\n",
       " ('badly', 'RB'),\n",
       " ('need', 'DT'),\n",
       " ('modernisation', 'NN')]"
      ]
     },
     "execution_count": 17,
     "metadata": {},
     "output_type": "execute_result"
    }
   ],
   "source": [
    "# tag each word with part of speech\n",
    "pos_tag(words)"
   ]
  },
  {
   "cell_type": "code",
   "execution_count": 18,
   "id": "228ed682",
   "metadata": {},
   "outputs": [
    {
     "data": {
      "text/plain": [
       "'\\nPOS\\n\\nCC: It is the conjunction of coordinating\\nCD: It is a digit of cardinal\\nDT: It is the determiner\\nEX: Existential\\nFW: It is a foreign word\\nIN: Preposition and conjunction\\nJJ: Adjective\\nJJR and JJS: Adjective and superlative\\nLS: List marker\\nMD: Modal\\nNN: Singular noun\\nNNS, NNP, NNPS: Proper and plural noun\\nPDT: Predeterminer\\nWRB: Adverb of wh\\nWP$: Possessive wh\\nWP: Pronoun of wh\\nWDT: Determiner of wp\\nVBZ: Verb\\nVBP, VBN, VBG, VBD, VB: Forms of verbs\\nUH: Interjection\\nTO: To go\\nRP: Particle\\nRBS, RB, RBR: Adverb\\nPRP, PRP$: Pronoun personal and professional\\n\\n'"
      ]
     },
     "execution_count": 18,
     "metadata": {},
     "output_type": "execute_result"
    }
   ],
   "source": [
    "\"\"\"\n",
    "POS\n",
    "\n",
    "CC: It is the conjunction of coordinating\n",
    "CD: It is a digit of cardinal\n",
    "DT: It is the determiner\n",
    "EX: Existential\n",
    "FW: It is a foreign word\n",
    "IN: Preposition and conjunction\n",
    "JJ: Adjective\n",
    "JJR and JJS: Adjective and superlative\n",
    "LS: List marker\n",
    "MD: Modal\n",
    "NN: Singular noun\n",
    "NNS, NNP, NNPS: Proper and plural noun\n",
    "PDT: Predeterminer\n",
    "WRB: Adverb of wh\n",
    "WP$: Possessive wh\n",
    "WP: Pronoun of wh\n",
    "WDT: Determiner of wp\n",
    "VBZ: Verb\n",
    "VBP, VBN, VBG, VBD, VB: Forms of verbs\n",
    "UH: Interjection\n",
    "TO: To go\n",
    "RP: Particle\n",
    "RBS, RB, RBR: Adverb\n",
    "PRP, PRP$: Pronoun personal and professional\n",
    "\n",
    "\"\"\""
   ]
  },
  {
   "cell_type": "markdown",
   "id": "47a8864b",
   "metadata": {},
   "source": [
    "#### Named entity recognition"
   ]
  },
  {
   "cell_type": "code",
   "execution_count": 19,
   "id": "1b1bb436",
   "metadata": {},
   "outputs": [
    {
     "name": "stderr",
     "output_type": "stream",
     "text": [
      "[nltk_data] Downloading package words to\n",
      "[nltk_data]     C:\\Users\\Yaramis\\AppData\\Roaming\\nltk_data...\n",
      "[nltk_data]   Package words is already up-to-date!\n"
     ]
    },
    {
     "data": {
      "text/plain": [
       "True"
      ]
     },
     "execution_count": 19,
     "metadata": {},
     "output_type": "execute_result"
    }
   ],
   "source": [
    "from nltk import ne_chunk\n",
    "nltk.download('words')"
   ]
  },
  {
   "cell_type": "code",
   "execution_count": 20,
   "id": "7fc67a3c",
   "metadata": {
    "scrolled": false
   },
   "outputs": [
    {
     "name": "stdout",
     "output_type": "stream",
     "text": [
      "(S\n",
      "  Its/PRP$\n",
      "  infrastructure/NN\n",
      "  is/VBZ\n",
      "  badly/RB\n",
      "  in/IN\n",
      "  need/NN\n",
      "  of/IN\n",
      "  modernisation/NN\n",
      "  ./.)\n"
     ]
    }
   ],
   "source": [
    "ner_tree = ne_chunk(pos_tag(word_tokenize(sentences[2])))\n",
    "print(ner_tree)"
   ]
  },
  {
   "cell_type": "code",
   "execution_count": 21,
   "id": "bbd52191",
   "metadata": {},
   "outputs": [
    {
     "name": "stdout",
     "output_type": "stream",
     "text": [
      "(S\n",
      "  Its/PRP$\n",
      "  infrastructure/NN\n",
      "  is/VBZ\n",
      "  badly/RB\n",
      "  in/IN\n",
      "  need/NN\n",
      "  of/IN\n",
      "  modernisation/NN)\n"
     ]
    }
   ],
   "source": [
    "ner_tree = ne_chunk(pos_tag(word_tokenize(text)))\n",
    "print(ner_tree)"
   ]
  },
  {
   "cell_type": "code",
   "execution_count": 22,
   "id": "ac91fc14",
   "metadata": {},
   "outputs": [
    {
     "name": "stdout",
     "output_type": "stream",
     "text": [
      "(S\n",
      "  (PERSON Twitter/NNP)\n",
      "  (ORGANIZATION CEO/NNP Elon/NNP Musk/NNP)\n",
      "  arrived/VBD\n",
      "  at/IN\n",
      "  the/DT\n",
      "  (FACILITY Staples/NNP Center/NNP)\n",
      "  in/IN\n",
      "  (GPE Los/NNP Angeles/NNP)\n",
      "  ,/,\n",
      "  (GPE California/NNP)\n",
      "  ./.)\n"
     ]
    }
   ],
   "source": [
    "text = \"Twitter CEO Elon Musk arrived at the Staples Center in Los Angeles, California. \"\n",
    "ner_tree = ne_chunk(pos_tag(word_tokenize(text)))\n",
    "print(ner_tree)"
   ]
  }
 ],
 "metadata": {
  "kernelspec": {
   "display_name": "Python 3 (ipykernel)",
   "language": "python",
   "name": "python3"
  },
  "language_info": {
   "codemirror_mode": {
    "name": "ipython",
    "version": 3
   },
   "file_extension": ".py",
   "mimetype": "text/x-python",
   "name": "python",
   "nbconvert_exporter": "python",
   "pygments_lexer": "ipython3",
   "version": "3.11.7"
  }
 },
 "nbformat": 4,
 "nbformat_minor": 5
}
